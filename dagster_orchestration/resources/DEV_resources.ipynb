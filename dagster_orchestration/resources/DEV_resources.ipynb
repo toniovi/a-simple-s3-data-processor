{
 "cells": [
  {
   "cell_type": "code",
   "execution_count": 6,
   "metadata": {},
   "outputs": [
    {
     "name": "stdout",
     "output_type": "stream",
     "text": [
      "2021/\n",
      "2021/04/\n",
      "2021/05/\n",
      "2022/\n",
      "2022/01/\n",
      "2022/01/events.csv\n",
      "2022/02/\n",
      "2022/02/events.csv\n"
     ]
    }
   ],
   "source": [
    "# Using boto, i want to create and s3 client\n",
    "# and list all the files in a buclet\n",
    "# the bucket name is s3://acme-data-bucket/, and it is public\n",
    "\n",
    "import boto3\n",
    "from botocore import UNSIGNED\n",
    "from botocore.client import Config\n",
    "\n",
    "s3 = boto3.client('s3', config=Config(signature_version=UNSIGNED))\n",
    "\n",
    "bucket = 'acme-data-bucket'\n",
    "\n",
    "for obj in s3.list_objects(Bucket=bucket)['Contents']:\n",
    "    print(obj['Key'])\n"
   ]
  },
  {
   "cell_type": "code",
   "execution_count": null,
   "metadata": {},
   "outputs": [],
   "source": []
  }
 ],
 "metadata": {
  "kernelspec": {
   "display_name": "Python 3",
   "language": "python",
   "name": "python3"
  },
  "language_info": {
   "codemirror_mode": {
    "name": "ipython",
    "version": 3
   },
   "file_extension": ".py",
   "mimetype": "text/x-python",
   "name": "python",
   "nbconvert_exporter": "python",
   "pygments_lexer": "ipython3",
   "version": "3.11.8"
  }
 },
 "nbformat": 4,
 "nbformat_minor": 2
}

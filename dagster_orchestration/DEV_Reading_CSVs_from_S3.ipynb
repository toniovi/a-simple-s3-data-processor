{
 "cells": [
  {
   "cell_type": "markdown",
   "metadata": {},
   "source": [
    "## Some Notes:\n",
    "\n",
    "INPUT: \"year-month\"\n",
    "\n",
    "OUTPUT: Pandas DataFrame\n",
    "\n",
    "\n",
    "Should:\n",
    "Schedule the full list\n",
    "\n",
    "\n",
    "Industrialize it\n",
    "Host it\n",
    "Deploy it to production\n",
    "Make it recurring\n",
    "Monitor the runs\n",
    "\n",
    "\n",
    "Other:\n",
    "one directory per year, and one subdirectory per month\n",
    "\n",
    "always named \"events.csv\"\n",
    "\n",
    "\n",
    "My take:\n",
    "https://docs.dagster.io/concepts/io-management/io-managers#when-to-use-io-managers\n",
    "\n",
    "This gives us the possibility to dive dep into Pydantic:\n",
    "https://docs.dagster.io/concepts/io-management/io-managers#defining-pythonic-io-managers\n",
    "\n",
    "\n",
    "https://docs.dagster.io/_apidocs/libraries/dagster-aws#dagster_aws.s3.S3Coordinate\n",
    "\n",
    "\n",
    "So, while process_s3_files_job() might seem unnecessary because it's just calling create_asset_from_s3_file(), it's actually doing a lot of important work behind the scenes by integrating with Dagster's job management, configuration, and resource management features.\n",
    "\n",
    "\n",
    "\n",
    "à ameliorer:\n",
    "\n",
    "2. **S3 Bucket Name**: In `dagster_orchestration/sensors/sensors.py`, the bucket name is hardcoded as \"work-sample-mk\". If this bucket name changes or if you want to use different buckets for different environments (like testing, staging, production), consider making this a configurable parameter or an environment variable.\n",
    "\n",
    "3. **Error Handling**: There doesn't seem to be much error handling in the code. For example, what happens if `s3_client.get_object(Bucket=bucket, Key=key)` fails because the file doesn't exist or because of a network error? Adding some error handling could make your code more robust.\n",
    "\n",
    "\n",
    "for arguments:\n",
    "\n",
    "4. **File Structure**: Your file structure is clear and well-organized. Each Python file has a specific purpose (defining assets, sensors, schedules, etc.), which makes your code easier to understand and maintain.\n"
   ]
  },
  {
   "cell_type": "code",
   "execution_count": null,
   "metadata": {},
   "outputs": [],
   "source": []
  },
  {
   "cell_type": "code",
   "execution_count": null,
   "metadata": {},
   "outputs": [],
   "source": []
  },
  {
   "cell_type": "markdown",
   "metadata": {},
   "source": []
  },
  {
   "cell_type": "code",
   "execution_count": null,
   "metadata": {},
   "outputs": [],
   "source": []
  }
 ],
 "metadata": {
  "language_info": {
   "name": "python"
  }
 },
 "nbformat": 4,
 "nbformat_minor": 2
}
